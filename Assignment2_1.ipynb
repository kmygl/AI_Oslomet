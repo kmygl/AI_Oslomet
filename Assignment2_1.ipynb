{
 "cells": [
  {
   "cell_type": "code",
   "execution_count": 537,
   "id": "e56f48a3",
   "metadata": {},
   "outputs": [],
   "source": [
    "%matplotlib inline\n",
    "import pandas as pd\n",
    "import numpy as np\n",
    "import matplotlib.pyplot as plt\n",
    "import seaborn as sns\n",
    "import re\n",
    "import datetime\n",
    "\n",
    "from sklearn import metrics\n",
    "from sklearn import preprocessing\n",
    "from sklearn.linear_model import LinearRegression\n",
    "from sklearn.model_selection import train_test_split\n",
    "\n",
    "url = \"~/documents/python/ruter_data_2.csv\"\n",
    "df = pd.read_csv(url, sep=';')\n"
   ]
  },
  {
   "cell_type": "code",
   "execution_count": 538,
   "id": "569b0774",
   "metadata": {},
   "outputs": [
    {
     "data": {
      "text/html": [
       "<div>\n",
       "<style scoped>\n",
       "    .dataframe tbody tr th:only-of-type {\n",
       "        vertical-align: middle;\n",
       "    }\n",
       "\n",
       "    .dataframe tbody tr th {\n",
       "        vertical-align: top;\n",
       "    }\n",
       "\n",
       "    .dataframe thead th {\n",
       "        text-align: right;\n",
       "    }\n",
       "</style>\n",
       "<table border=\"1\" class=\"dataframe\">\n",
       "  <thead>\n",
       "    <tr style=\"text-align: right;\">\n",
       "      <th></th>\n",
       "      <th>TurId</th>\n",
       "      <th>Dato</th>\n",
       "      <th>Fylke</th>\n",
       "      <th>Område</th>\n",
       "      <th>Kommune</th>\n",
       "      <th>Holdeplass_Fra</th>\n",
       "      <th>Holdeplass_Til</th>\n",
       "      <th>Linjetype</th>\n",
       "      <th>Linjefylke</th>\n",
       "      <th>Linjenavn</th>\n",
       "      <th>Linjeretning</th>\n",
       "      <th>Tidspunkt_Faktisk_Ankomst_Holdeplass_Fra</th>\n",
       "      <th>Tidspunkt_Faktisk_Avgang_Holdeplass_Fra</th>\n",
       "      <th>Tidspunkt_Planlagt_Ankomst_Holdeplass_Fra</th>\n",
       "      <th>Tidspunkt_Planlagt_Avgang_Holdeplass_Fra</th>\n",
       "      <th>Kjøretøy_Kapasitet</th>\n",
       "      <th>Passasjerer_Ombord</th>\n",
       "      <th>Trip_Id</th>\n",
       "      <th>Date</th>\n",
       "    </tr>\n",
       "  </thead>\n",
       "  <tbody>\n",
       "    <tr>\n",
       "      <th>0</th>\n",
       "      <td>15006-2020-08-10T10:24:00+02:00</td>\n",
       "      <td>10/08/2020</td>\n",
       "      <td>Viken</td>\n",
       "      <td>Vest</td>\n",
       "      <td>Bærum</td>\n",
       "      <td>Nordliveien</td>\n",
       "      <td>Tjernsmyr</td>\n",
       "      <td>Lokal</td>\n",
       "      <td>Viken</td>\n",
       "      <td>150</td>\n",
       "      <td>0</td>\n",
       "      <td>10:53:53</td>\n",
       "      <td>10:53:59</td>\n",
       "      <td>10:53:00</td>\n",
       "      <td>10:53:00</td>\n",
       "      <td>112</td>\n",
       "      <td>5</td>\n",
       "      <td>15006</td>\n",
       "      <td>2020-08-10</td>\n",
       "    </tr>\n",
       "    <tr>\n",
       "      <th>1</th>\n",
       "      <td>15002-2020-08-15T12:54:00+02:00</td>\n",
       "      <td>15/08/2020</td>\n",
       "      <td>Viken</td>\n",
       "      <td>Vest</td>\n",
       "      <td>Bærum</td>\n",
       "      <td>Nadderud stadion</td>\n",
       "      <td>Bekkestua bussterminal (Plattform C)</td>\n",
       "      <td>Lokal</td>\n",
       "      <td>Viken</td>\n",
       "      <td>150</td>\n",
       "      <td>0</td>\n",
       "      <td>13:12:20</td>\n",
       "      <td>13:12:26</td>\n",
       "      <td>13:12:00</td>\n",
       "      <td>13:12:00</td>\n",
       "      <td>112</td>\n",
       "      <td>5</td>\n",
       "      <td>15002</td>\n",
       "      <td>2020-08-15</td>\n",
       "    </tr>\n",
       "    <tr>\n",
       "      <th>2</th>\n",
       "      <td>15004-2020-08-03T09:54:00+02:00</td>\n",
       "      <td>03/08/2020</td>\n",
       "      <td>Viken</td>\n",
       "      <td>Vest</td>\n",
       "      <td>Bærum</td>\n",
       "      <td>Ringstabekkveien</td>\n",
       "      <td>Skallum</td>\n",
       "      <td>Lokal</td>\n",
       "      <td>Viken</td>\n",
       "      <td>150</td>\n",
       "      <td>0</td>\n",
       "      <td>10:18:56</td>\n",
       "      <td>10:19:21</td>\n",
       "      <td>10:19:00</td>\n",
       "      <td>10:19:00</td>\n",
       "      <td>112</td>\n",
       "      <td>6</td>\n",
       "      <td>15004</td>\n",
       "      <td>2020-08-03</td>\n",
       "    </tr>\n",
       "    <tr>\n",
       "      <th>3</th>\n",
       "      <td>15003-2020-07-27T13:00:00+02:00</td>\n",
       "      <td>27/07/2020</td>\n",
       "      <td>Viken</td>\n",
       "      <td>Vest</td>\n",
       "      <td>Bærum</td>\n",
       "      <td>Gruvemyra</td>\n",
       "      <td>Gullhaug</td>\n",
       "      <td>Lokal</td>\n",
       "      <td>Viken</td>\n",
       "      <td>150</td>\n",
       "      <td>1</td>\n",
       "      <td>13:52:04</td>\n",
       "      <td>13:52:26</td>\n",
       "      <td>13:51:00</td>\n",
       "      <td>13:51:00</td>\n",
       "      <td>112</td>\n",
       "      <td>10</td>\n",
       "      <td>15003</td>\n",
       "      <td>2020-07-27</td>\n",
       "    </tr>\n",
       "    <tr>\n",
       "      <th>4</th>\n",
       "      <td>15002-2020-08-27T07:15:00+02:00</td>\n",
       "      <td>27/08/2020</td>\n",
       "      <td>Viken</td>\n",
       "      <td>Vest</td>\n",
       "      <td>Bærum</td>\n",
       "      <td>Lysaker stasjon (Plattform A)</td>\n",
       "      <td>Tjernsmyr</td>\n",
       "      <td>Lokal</td>\n",
       "      <td>Viken</td>\n",
       "      <td>150</td>\n",
       "      <td>1</td>\n",
       "      <td>07:34:13</td>\n",
       "      <td>07:34:53</td>\n",
       "      <td>07:33:00</td>\n",
       "      <td>07:33:00</td>\n",
       "      <td>112</td>\n",
       "      <td>10</td>\n",
       "      <td>15002</td>\n",
       "      <td>2020-08-27</td>\n",
       "    </tr>\n",
       "  </tbody>\n",
       "</table>\n",
       "</div>"
      ],
      "text/plain": [
       "                             TurId        Dato  Fylke Område Kommune  \\\n",
       "0  15006-2020-08-10T10:24:00+02:00  10/08/2020  Viken   Vest   Bærum   \n",
       "1  15002-2020-08-15T12:54:00+02:00  15/08/2020  Viken   Vest   Bærum   \n",
       "2  15004-2020-08-03T09:54:00+02:00  03/08/2020  Viken   Vest   Bærum   \n",
       "3  15003-2020-07-27T13:00:00+02:00  27/07/2020  Viken   Vest   Bærum   \n",
       "4  15002-2020-08-27T07:15:00+02:00  27/08/2020  Viken   Vest   Bærum   \n",
       "\n",
       "                  Holdeplass_Fra                        Holdeplass_Til  \\\n",
       "0                    Nordliveien                             Tjernsmyr   \n",
       "1               Nadderud stadion  Bekkestua bussterminal (Plattform C)   \n",
       "2               Ringstabekkveien                               Skallum   \n",
       "3                      Gruvemyra                              Gullhaug   \n",
       "4  Lysaker stasjon (Plattform A)                             Tjernsmyr   \n",
       "\n",
       "  Linjetype Linjefylke Linjenavn  Linjeretning  \\\n",
       "0     Lokal      Viken       150             0   \n",
       "1     Lokal      Viken       150             0   \n",
       "2     Lokal      Viken       150             0   \n",
       "3     Lokal      Viken       150             1   \n",
       "4     Lokal      Viken       150             1   \n",
       "\n",
       "  Tidspunkt_Faktisk_Ankomst_Holdeplass_Fra  \\\n",
       "0                                 10:53:53   \n",
       "1                                 13:12:20   \n",
       "2                                 10:18:56   \n",
       "3                                 13:52:04   \n",
       "4                                 07:34:13   \n",
       "\n",
       "  Tidspunkt_Faktisk_Avgang_Holdeplass_Fra  \\\n",
       "0                                10:53:59   \n",
       "1                                13:12:26   \n",
       "2                                10:19:21   \n",
       "3                                13:52:26   \n",
       "4                                07:34:53   \n",
       "\n",
       "  Tidspunkt_Planlagt_Ankomst_Holdeplass_Fra  \\\n",
       "0                                  10:53:00   \n",
       "1                                  13:12:00   \n",
       "2                                  10:19:00   \n",
       "3                                  13:51:00   \n",
       "4                                  07:33:00   \n",
       "\n",
       "  Tidspunkt_Planlagt_Avgang_Holdeplass_Fra  Kjøretøy_Kapasitet  \\\n",
       "0                                 10:53:00                 112   \n",
       "1                                 13:12:00                 112   \n",
       "2                                 10:19:00                 112   \n",
       "3                                 13:51:00                 112   \n",
       "4                                 07:33:00                 112   \n",
       "\n",
       "   Passasjerer_Ombord Trip_Id       Date  \n",
       "0                   5   15006 2020-08-10  \n",
       "1                   5   15002 2020-08-15  \n",
       "2                   6   15004 2020-08-03  \n",
       "3                  10   15003 2020-07-27  \n",
       "4                  10   15002 2020-08-27  "
      ]
     },
     "execution_count": 538,
     "metadata": {},
     "output_type": "execute_result"
    }
   ],
   "source": [
    "#Konverteringen roter til datoene.\n",
    "#Skiller ut Trip_ID og Date som egen feature (samme buss med samme stoppesteder)\n",
    "df[\"Trip_Id\"] = df.TurId.apply(lambda x: re.search('([0-9]+)\\-', x).group(1)) \n",
    "df[\"Date\"] = df.TurId.apply(lambda x: re.search('-([0-9,-z]+)T', x).group(1))\n",
    "df['Date'] = pd.to_datetime(df['Date'])\n",
    "df.head()"
   ]
  },
  {
   "cell_type": "code",
   "execution_count": 539,
   "id": "5e89717b",
   "metadata": {},
   "outputs": [],
   "source": [
    "#Vil også ha en kolonne som viser ukedager\n",
    "df['Ukedag'] = df['Date'].dt.day_name()"
   ]
  },
  {
   "cell_type": "code",
   "execution_count": 540,
   "id": "a52594a0",
   "metadata": {},
   "outputs": [],
   "source": [
    "#Noen verdier i kolonnen Passasjerer_Ombord er negative. \n",
    "#Antar dette er feil. Korrigerer disse til 0:\n",
    "for index, row in df.iterrows():\n",
    "    if df.loc[index, 'Passasjerer_Ombord'] < 0:\n",
    "        df.loc[index,'Passasjerer_Ombord'] = 0"
   ]
  },
  {
   "cell_type": "code",
   "execution_count": 541,
   "id": "19fcd716",
   "metadata": {},
   "outputs": [],
   "source": [
    "df['Trip_Id'] = df['Trip_Id'].astype(str).astype(int)\n",
    "df_1=df\n",
    "df_1 = df_1.drop(df_1[df_1.Trip_Id != 44003].index)\n",
    "df_1 = df_1.drop(df_1[df_1.Linjeretning < 1].index)\n",
    "#Vi har nå en buss fra et stopp til et annet, en retning\n",
    "#df_1 = Kun turer med TripId 44003"
   ]
  },
  {
   "cell_type": "code",
   "execution_count": 542,
   "id": "bf091700",
   "metadata": {},
   "outputs": [
    {
     "data": {
      "text/plain": [
       "<AxesSubplot:xlabel='Ukedag', ylabel='Passasjerer_Ombord'>"
      ]
     },
     "execution_count": 542,
     "metadata": {},
     "output_type": "execute_result"
    },
    {
     "data": {
      "image/png": "[encoded data removed]",
      "text/plain": [
       "<Figure size 432x288 with 1 Axes>"
      ]
     },
     "metadata": {
      "needs_background": "light"
     },
     "output_type": "display_data"
    }
   ],
   "source": [
    "df_1.plot.scatter(x='Ukedag', y='Passasjerer_Ombord', s=100)"
   ]
  },
  {
   "cell_type": "code",
   "execution_count": 543,
   "id": "0eac8c50",
   "metadata": {},
   "outputs": [
    {
     "data": {
      "text/plain": [
       "<AxesSubplot:xlabel='Ukedag', ylabel='Passasjerer_Ombord'>"
      ]
     },
     "execution_count": 543,
     "metadata": {},
     "output_type": "execute_result"
    },
    {
     "data": {
      "image/png": "[encoded data removed]",
      "text/plain": [
       "<Figure size 432x288 with 1 Axes>"
      ]
     },
     "metadata": {
      "needs_background": "light"
     },
     "output_type": "display_data"
    }
   ],
   "source": [
    "#Tilsvarende plot for hele datasettet\n",
    "df.plot.scatter(x='Ukedag', y='Passasjerer_Ombord', s=100)"
   ]
  },
  {
   "cell_type": "code",
   "execution_count": 544,
   "id": "3e848431",
   "metadata": {},
   "outputs": [
    {
     "data": {
      "text/plain": [
       "<AxesSubplot:xlabel='Ukedag', ylabel='Passasjerer_Ombord'>"
      ]
     },
     "execution_count": 544,
     "metadata": {},
     "output_type": "execute_result"
    },
    {
     "data": {
      "image/png": "[encoded data removed]",
      "text/plain": [
       "<Figure size 432x288 with 1 Axes>"
      ]
     },
     "metadata": {
      "needs_background": "light"
     },
     "output_type": "display_data"
    }
   ],
   "source": [
    "#Ser på et spesifikt linjenavn, i stedet for Trip_Id.\n",
    "df_2 = df.drop(df[df.Linjenavn != \"440\"].index)\n",
    "df_2.plot.scatter(x='Ukedag', y='Passasjerer_Ombord', s=100)\n",
    "#Tilsvarende plot for busser med linjenavn 440:"
   ]
  },
  {
   "cell_type": "code",
   "execution_count": 545,
   "id": "a99e435f",
   "metadata": {},
   "outputs": [
    {
     "data": {
      "text/plain": [
       "<AxesSubplot:xlabel='Date', ylabel='Passasjerer_Ombord'>"
      ]
     },
     "execution_count": 545,
     "metadata": {},
     "output_type": "execute_result"
    },
    {
     "data": {
      "image/png": "[encoded data removed]",
      "text/plain": [
       "<Figure size 432x288 with 1 Axes>"
      ]
     },
     "metadata": {
      "needs_background": "light"
     },
     "output_type": "display_data"
    }
   ],
   "source": [
    "#Lager ny kolonne der datoer er rangert etter dager fra 010101.\n",
    "#Slik at jeg kan lage en prediksjon.\n",
    "df_2['Date_2']=df['Date'].map(datetime.datetime.toordinal)\n",
    "df_2.plot.scatter(x='Date', y='Passasjerer_Ombord', s=100)\n",
    "#Scatterplot, linjenavn 440, med dato istedetfor ukedag:"
   ]
  },
  {
   "cell_type": "code",
   "execution_count": 546,
   "id": "c29a94f9",
   "metadata": {},
   "outputs": [
    {
     "data": {
      "text/html": [
       "<div>\n",
       "<style scoped>\n",
       "    .dataframe tbody tr th:only-of-type {\n",
       "        vertical-align: middle;\n",
       "    }\n",
       "\n",
       "    .dataframe tbody tr th {\n",
       "        vertical-align: top;\n",
       "    }\n",
       "\n",
       "    .dataframe thead th {\n",
       "        text-align: right;\n",
       "    }\n",
       "</style>\n",
       "<table border=\"1\" class=\"dataframe\">\n",
       "  <thead>\n",
       "    <tr style=\"text-align: right;\">\n",
       "      <th></th>\n",
       "      <th>Trip_Id</th>\n",
       "      <th>Passasjerer_Ombord</th>\n",
       "      <th>Date</th>\n",
       "      <th>Date_2</th>\n",
       "      <th>Måned</th>\n",
       "      <th>Dag</th>\n",
       "      <th>Ukedag</th>\n",
       "    </tr>\n",
       "  </thead>\n",
       "  <tbody>\n",
       "    <tr>\n",
       "      <th>96</th>\n",
       "      <td>44002</td>\n",
       "      <td>1</td>\n",
       "      <td>2020-06-28</td>\n",
       "      <td>737604</td>\n",
       "      <td>6</td>\n",
       "      <td>28</td>\n",
       "      <td>Sunday</td>\n",
       "    </tr>\n",
       "    <tr>\n",
       "      <th>98</th>\n",
       "      <td>44003</td>\n",
       "      <td>2</td>\n",
       "      <td>2020-06-15</td>\n",
       "      <td>737591</td>\n",
       "      <td>6</td>\n",
       "      <td>15</td>\n",
       "      <td>Monday</td>\n",
       "    </tr>\n",
       "    <tr>\n",
       "      <th>99</th>\n",
       "      <td>44003</td>\n",
       "      <td>0</td>\n",
       "      <td>2020-08-10</td>\n",
       "      <td>737647</td>\n",
       "      <td>8</td>\n",
       "      <td>10</td>\n",
       "      <td>Monday</td>\n",
       "    </tr>\n",
       "    <tr>\n",
       "      <th>102</th>\n",
       "      <td>44003</td>\n",
       "      <td>6</td>\n",
       "      <td>2020-06-04</td>\n",
       "      <td>737580</td>\n",
       "      <td>6</td>\n",
       "      <td>4</td>\n",
       "      <td>Thursday</td>\n",
       "    </tr>\n",
       "    <tr>\n",
       "      <th>104</th>\n",
       "      <td>44002</td>\n",
       "      <td>0</td>\n",
       "      <td>2020-06-22</td>\n",
       "      <td>737598</td>\n",
       "      <td>6</td>\n",
       "      <td>22</td>\n",
       "      <td>Monday</td>\n",
       "    </tr>\n",
       "  </tbody>\n",
       "</table>\n",
       "</div>"
      ],
      "text/plain": [
       "     Trip_Id  Passasjerer_Ombord       Date  Date_2  Måned  Dag    Ukedag\n",
       "96     44002                   1 2020-06-28  737604      6   28    Sunday\n",
       "98     44003                   2 2020-06-15  737591      6   15    Monday\n",
       "99     44003                   0 2020-08-10  737647      8   10    Monday\n",
       "102    44003                   6 2020-06-04  737580      6    4  Thursday\n",
       "104    44002                   0 2020-06-22  737598      6   22    Monday"
      ]
     },
     "execution_count": 546,
     "metadata": {},
     "output_type": "execute_result"
    }
   ],
   "source": [
    "#Lager noen nye features\n",
    "df_2['Måned'] = [i.month for i in df_2['Date']]\n",
    "df_2['År'] = [i.year for i in df_2['Date']]\n",
    "df_2['Dag'] = [i.day for i in df_2['Date']]\n",
    "#Skiller ut nye feature i eget datasett:\n",
    "data = df_2[['Trip_Id', 'Passasjerer_Ombord', 'Date', 'Date_2', 'Måned', 'Dag', 'Ukedag']] \n",
    "data.head()"
   ]
  },
  {
   "cell_type": "code",
   "execution_count": 547,
   "id": "71690707",
   "metadata": {},
   "outputs": [
    {
     "data": {
      "image/png": "[encoded data removed]",
      "text/plain": [
       "<Figure size 432x288 with 1 Axes>"
      ]
     },
     "metadata": {
      "needs_background": "light"
     },
     "output_type": "display_data"
    },
    {
     "name": "stdout",
     "output_type": "stream",
     "text": [
      "MSE = 29.162974666793577\n"
     ]
    }
   ],
   "source": [
    "#Bruker linjenummer 440 til å se om jeg finner noen plausible prediksjoner\n",
    "X = pd.DataFrame(data['Date_2']) \n",
    "y = pd.DataFrame(data['Passasjerer_Ombord'])\n",
    "X_train, X_test, y_train, y_test = train_test_split(X, y, test_size=0.33, random_state=42)\n",
    "linear_regressor = LinearRegression()  \n",
    "linear_regressor.fit(X_train, y_train) \n",
    "Y_pred = linear_regressor.predict(X_train) \n",
    "plt.scatter(X_train, y_train)             \n",
    "plt.plot(X_train, Y_pred, color='red')    \n",
    "plt.show()                                \n",
    "print( \"MSE = \"+str(metrics.mean_squared_error(y_train,Y_pred))) "
   ]
  },
  {
   "cell_type": "code",
   "execution_count": 548,
   "id": "fb097a31",
   "metadata": {},
   "outputs": [
    {
     "data": {
      "image/png": "[encoded data removed]",
      "text/plain": [
       "<Figure size 432x288 with 1 Axes>"
      ]
     },
     "metadata": {
      "needs_background": "light"
     },
     "output_type": "display_data"
    },
    {
     "name": "stdout",
     "output_type": "stream",
     "text": [
      "MSE = 15.64503209573306\n"
     ]
    }
   ],
   "source": [
    "#Sjekker hvordan det fungerer på test-settet:\n",
    "Y_pred = linear_regressor.predict(X_test)  \n",
    "plt.scatter(X_test, y_test)\n",
    "plt.plot(X_test, Y_pred, color='red')\n",
    "plt.show()\n",
    "print( \"MSE = \"+str(metrics.mean_squared_error(y_test,Y_pred)))"
   ]
  },
  {
   "cell_type": "code",
   "execution_count": 549,
   "id": "d368646b",
   "metadata": {},
   "outputs": [
    {
     "data": {
      "text/plain": [
       "array([[3.94120733]])"
      ]
     },
     "execution_count": 549,
     "metadata": {},
     "output_type": "execute_result"
    }
   ],
   "source": [
    "#Sjekker på en konkret dato\n",
    "linear_regressor.predict([[737630]])"
   ]
  }
 ],
 "metadata": {
  "kernelspec": {
   "display_name": "Python 3 (ipykernel)",
   "language": "python",
   "name": "python3"
  },
  "language_info": {
   "codemirror_mode": {
    "name": "ipython",
    "version": 3
   },
   "file_extension": ".py",
   "mimetype": "text/x-python",
   "name": "python",
   "nbconvert_exporter": "python",
   "pygments_lexer": "ipython3",
   "version": "3.8.11"
  }
 },
 "nbformat": 4,
 "nbformat_minor": 5
}
